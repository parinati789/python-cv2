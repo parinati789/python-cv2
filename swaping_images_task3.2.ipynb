{
 "cells": [
  {
   "cell_type": "code",
   "execution_count": 2,
   "id": "8efb9db6",
   "metadata": {},
   "outputs": [],
   "source": [
    "import cv2\n",
    "import numpy as np"
   ]
  },
  {
   "cell_type": "code",
   "execution_count": 3,
   "id": "86e9f996",
   "metadata": {},
   "outputs": [],
   "source": [
    "#return image data in array\n",
    "image = cv2.imread(\"flower.jpg\")\n",
    "image2 = cv2.imread(\"flower2.jpg\")"
   ]
  },
  {
   "cell_type": "code",
   "execution_count": 5,
   "id": "97c87046",
   "metadata": {},
   "outputs": [],
   "source": [
    "\n",
    "cv2.imshow(\"img1\",image)\n",
    "cv2.waitKey()\n",
    "cv2.destroyAllWindows()"
   ]
  },
  {
   "cell_type": "code",
   "execution_count": 6,
   "id": "f438a49e",
   "metadata": {},
   "outputs": [],
   "source": [
    "cv2.imshow(\"img2\",image2)\n",
    "cv2.waitKey()\n",
    "cv2.destroyAllWindows()"
   ]
  },
  {
   "cell_type": "code",
   "execution_count": 7,
   "id": "a1b9699a",
   "metadata": {},
   "outputs": [
    {
     "data": {
      "text/plain": [
       "(280, 390, 3)"
      ]
     },
     "execution_count": 7,
     "metadata": {},
     "output_type": "execute_result"
    }
   ],
   "source": [
    "#size\n",
    "image.shape"
   ]
  },
  {
   "cell_type": "code",
   "execution_count": 8,
   "id": "5f5b64d1",
   "metadata": {},
   "outputs": [
    {
     "data": {
      "text/plain": [
       "(531, 800, 3)"
      ]
     },
     "execution_count": 8,
     "metadata": {},
     "output_type": "execute_result"
    }
   ],
   "source": [
    "image2.shape"
   ]
  },
  {
   "cell_type": "code",
   "execution_count": 9,
   "id": "639f370c",
   "metadata": {},
   "outputs": [],
   "source": [
    "#swapping\n",
    "image_crop = image[100:200,30:280]\n",
    "image2[100:200,30:280] = image_crop\n",
    "cv2.imshow(\"new\",image2)\n",
    "cv2.waitKey()\n",
    "cv2.destroyAllWindows()"
   ]
  },
  {
   "cell_type": "code",
   "execution_count": 10,
   "id": "bafe4591",
   "metadata": {},
   "outputs": [],
   "source": [
    "#swapping\n",
    "image2_crop = image2[0:200,30:180]\n",
    "image[0:200,30:180] = image2_crop\n",
    "cv2.imshow(\"new2\",image)\n",
    "cv2.waitKey()\n",
    "cv2.destroyAllWindows()\n"
   ]
  },
  {
   "cell_type": "code",
   "execution_count": null,
   "id": "3e7ae66b",
   "metadata": {},
   "outputs": [],
   "source": []
  },
  {
   "cell_type": "code",
   "execution_count": null,
   "id": "6ddbff40",
   "metadata": {},
   "outputs": [],
   "source": []
  }
 ],
 "metadata": {
  "kernelspec": {
   "display_name": "Python 3",
   "language": "python",
   "name": "python3"
  },
  "language_info": {
   "codemirror_mode": {
    "name": "ipython",
    "version": 3
   },
   "file_extension": ".py",
   "mimetype": "text/x-python",
   "name": "python",
   "nbconvert_exporter": "python",
   "pygments_lexer": "ipython3",
   "version": "3.8.8"
  }
 },
 "nbformat": 4,
 "nbformat_minor": 5
}
