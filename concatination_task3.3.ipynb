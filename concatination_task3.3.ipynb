{
 "cells": [
  {
   "cell_type": "code",
   "execution_count": 2,
   "id": "e1c7a95d",
   "metadata": {},
   "outputs": [],
   "source": [
    "import cv2"
   ]
  },
  {
   "cell_type": "code",
   "execution_count": 3,
   "id": "9c48b3bb",
   "metadata": {},
   "outputs": [],
   "source": [
    "image = cv2.imread(\"flower.jpg\")\n",
    "image2 = cv2.imread(\"flower2.jpg\")"
   ]
  },
  {
   "cell_type": "code",
   "execution_count": 4,
   "id": "a4a1258a",
   "metadata": {},
   "outputs": [],
   "source": [
    "image_resize = cv2.resize(image,(200,200))\n",
    "image2_resize = cv2.resize(image2,(200,200))"
   ]
  },
  {
   "cell_type": "code",
   "execution_count": 5,
   "id": "fee3cbe7",
   "metadata": {},
   "outputs": [],
   "source": [
    "h_concat = cv2.hconcat([image2_resize , image_resize])\n",
    "cv2.imshow(\"concate\",h_concat)\n",
    "cv2.waitKey()\n",
    "cv2.destroyAllWindows()"
   ]
  },
  {
   "cell_type": "code",
   "execution_count": 6,
   "id": "d2474384",
   "metadata": {},
   "outputs": [],
   "source": [
    "v_concat = cv2.vconcat([image2_resize , image_resize])\n",
    "cv2.imshow(\"concate\",v_concat)\n",
    "cv2.waitKey()\n",
    "cv2.destroyAllWindows()"
   ]
  },
  {
   "cell_type": "code",
   "execution_count": null,
   "id": "8bcf0b4c",
   "metadata": {},
   "outputs": [],
   "source": []
  },
  {
   "cell_type": "code",
   "execution_count": null,
   "id": "60452067",
   "metadata": {},
   "outputs": [],
   "source": []
  }
 ],
 "metadata": {
  "kernelspec": {
   "display_name": "Python 3",
   "language": "python",
   "name": "python3"
  },
  "language_info": {
   "codemirror_mode": {
    "name": "ipython",
    "version": 3
   },
   "file_extension": ".py",
   "mimetype": "text/x-python",
   "name": "python",
   "nbconvert_exporter": "python",
   "pygments_lexer": "ipython3",
   "version": "3.8.8"
  }
 },
 "nbformat": 4,
 "nbformat_minor": 5
}
